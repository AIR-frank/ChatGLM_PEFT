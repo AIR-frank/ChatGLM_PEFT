{
 "cells": [
  {
   "cell_type": "code",
   "execution_count": 2,
   "metadata": {},
   "outputs": [
    {
     "name": "stderr",
     "output_type": "stream",
     "text": [
      "/root/miniconda3/envs/chatglm3/lib/python3.10/site-packages/tqdm/auto.py:21: TqdmWarning: IProgress not found. Please update jupyter and ipywidgets. See https://ipywidgets.readthedocs.io/en/stable/user_install.html\n",
      "  from .autonotebook import tqdm as notebook_tqdm\n",
      "2024-10-17 11:13:10,193 - modelscope - INFO - Use user-specified model revision: v1.0.0\n",
      "Downloading [config.json]: 100%|██████████| 1.29k/1.29k [00:00<00:00, 1.94kB/s]\n",
      "Downloading [configuration.json]: 100%|██████████| 40.0/40.0 [00:00<00:00, 82.1B/s]\n",
      "Downloading [configuration_chatglm.py]: 100%|██████████| 2.28k/2.28k [00:00<00:00, 5.06kB/s]\n",
      "Downloading [MODEL_LICENSE]: 100%|██████████| 4.04k/4.04k [00:00<00:00, 9.05kB/s]\n",
      "Downloading [modeling_chatglm.py]: 100%|██████████| 54.3k/54.3k [00:00<00:00, 91.6kB/s]\n",
      "Downloading [pytorch_model-00001-of-00007.bin]: 100%|██████████| 1.70G/1.70G [03:13<00:00, 9.47MB/s]\n",
      "Downloading [pytorch_model-00002-of-00007.bin]: 100%|██████████| 1.83G/1.83G [03:22<00:00, 9.74MB/s]\n",
      "Downloading [pytorch_model-00003-of-00007.bin]: 100%|██████████| 1.80G/1.80G [03:19<00:00, 9.67MB/s]\n",
      "Downloading [pytorch_model-00004-of-00007.bin]: 100%|██████████| 1.69G/1.69G [03:08<00:00, 9.65MB/s]\n",
      "Downloading [pytorch_model-00005-of-00007.bin]: 100%|██████████| 1.83G/1.83G [03:24<00:00, 9.61MB/s]\n",
      "Downloading [pytorch_model-00006-of-00007.bin]: 100%|██████████| 1.80G/1.80G [03:17<00:00, 9.76MB/s]\n",
      "Downloading [pytorch_model-00007-of-00007.bin]: 100%|██████████| 0.98G/0.98G [01:59<00:00, 8.81MB/s]\n",
      "Downloading [pytorch_model.bin.index.json]: 100%|██████████| 20.0k/20.0k [00:00<00:00, 46.0kB/s]\n",
      "Downloading [quantization.py]: 100%|██████████| 14.3k/14.3k [00:00<00:00, 28.4kB/s]\n",
      "Downloading [README.md]: 100%|██████████| 4.37k/4.37k [00:00<00:00, 11.1kB/s]\n",
      "Downloading [tokenization_chatglm.py]: 100%|██████████| 11.0k/11.0k [00:00<00:00, 27.2kB/s]\n",
      "Downloading [tokenizer.model]: 100%|██████████| 995k/995k [00:00<00:00, 1.43MB/s]\n",
      "Downloading [tokenizer_config.json]: 100%|██████████| 244/244 [00:00<00:00, 623B/s]\n"
     ]
    }
   ],
   "source": [
    "# pip install modelscope\n",
    "# 实验室网络不好的时候通过modelscope下载 有断点续传\n",
    "# 模型版本可能比较老，需要与huggingface上的做比对替换\n",
    "from modelscope import snapshot_download\n",
    "model_dir = snapshot_download(\"ZhipuAI/chatglm3-6b\", revision = \"v1.0.0\")"
   ]
  },
  {
   "cell_type": "code",
   "execution_count": 2,
   "metadata": {},
   "outputs": [
    {
     "name": "stdout",
     "output_type": "stream",
     "text": [
      "/root/.cache/modelscope/hub/ZhipuAI/chatglm3-6b\n"
     ]
    }
   ],
   "source": [
    "print(model_dir)"
   ]
  }
 ],
 "metadata": {
  "kernelspec": {
   "display_name": "chatglm3",
   "language": "python",
   "name": "python3"
  },
  "language_info": {
   "codemirror_mode": {
    "name": "ipython",
    "version": 3
   },
   "file_extension": ".py",
   "mimetype": "text/x-python",
   "name": "python",
   "nbconvert_exporter": "python",
   "pygments_lexer": "ipython3",
   "version": "3.10.0"
  }
 },
 "nbformat": 4,
 "nbformat_minor": 2
}
