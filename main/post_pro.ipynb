{
 "cells": [
  {
   "cell_type": "code",
   "execution_count": 1,
   "metadata": {},
   "outputs": [],
   "source": [
    "import json\n",
    "import jsonlines\n"
   ]
  },
  {
   "cell_type": "code",
   "execution_count": 2,
   "metadata": {},
   "outputs": [],
   "source": [
    "# with open(\"/root/code/ChatGLM_PEFT/main/data/sample_dev_pred.json\", 'r', encoding='utf-8') as f:\n",
    "#     obj1 = json.load(f)\n",
    "#     print(type(obj1['answer']))"
   ]
  },
  {
   "cell_type": "code",
   "execution_count": 3,
   "metadata": {},
   "outputs": [
    {
     "name": "stdout",
     "output_type": "stream",
     "text": [
      "7405\n",
      "7405\n"
     ]
    }
   ],
   "source": [
    "\n",
    "# /root/code/ChatGLM_PEFT/main/data/hotpot_dev_distractor_v1.json\n",
    "dev = []\n",
    "with open(\"/root/code/ChatGLM_PEFT/main/data/temp_dev_content.json\", 'r', encoding='utf-8') as file:\n",
    "        dev = json.load(file)\n",
    "init_dev = []\n",
    "with open(\"/root/code/ChatGLM_PEFT/main/data/hotpot_dev_distractor_v1.json\", 'r', encoding='utf-8') as file:\n",
    "        init_dev = json.load(file)\n",
    "print(len(dev))\n",
    "print(len(init_dev))"
   ]
  },
  {
   "cell_type": "code",
   "execution_count": 4,
   "metadata": {},
   "outputs": [
    {
     "name": "stdout",
     "output_type": "stream",
     "text": [
      "14810\n",
      "7404\n"
     ]
    }
   ],
   "source": [
    "# 打开JSONL文件\n",
    "# with open(\"/root/code/ChatGLM_PEFT/output.txt\", \"r\", encoding=\"utf8\") as f:\n",
    "\n",
    "# 读取 .jsonl 文件并将其转换为 Python 对象列表\n",
    "from json import JSONDecodeError\n",
    "\n",
    "\n",
    "def read_jsonl(file_path):    \n",
    "    answer_parse_error_count = 0\n",
    "    sp_parse_error_count = 0\n",
    "    data = {\n",
    "        \"answer\":{},\n",
    "        \"sp\":{}\n",
    "    }\n",
    "    \n",
    "    with open(file_path, 'r', encoding='utf-8') as file:\n",
    "        lines = file.readlines()\n",
    "    line_num = len(lines) \n",
    "    print(line_num)\n",
    "    with open(file_path, 'r', encoding='utf-8') as file:\n",
    "        item_count = 0\n",
    "        count_index = 0\n",
    "        while item_count < (line_num/2)-1 :\n",
    "            # 读取两行\n",
    "            answer_line = json.loads(file.readline().strip())\n",
    "            sp_line = json.loads(file.readline().strip())\n",
    "            # print(answer_line)\n",
    "            # print(sp_line)\n",
    "            # 如果两行都为空，表示文件已经读完，退出循环(错误，出现连续两个空输出就老实了)\n",
    "            # if not answer_line and not sp_line:\n",
    "            #     break\n",
    "            \n",
    "            answer = \"\"\n",
    "            try:\n",
    "                answer = json.loads(str(answer_line).strip())  # 逐行读取并转换为 Python 对象\n",
    "                # print(answer)\n",
    "                # print(\"answer_type:\"+str(type(answer)))\n",
    "            except TypeError:\n",
    "                answer = \"<|>解析错误<|>\"\n",
    "                # print(\"答案解析错误\")\n",
    "                answer_parse_error_count += 1\n",
    "            except JSONDecodeError:\n",
    "                try:\n",
    "                    clean_line = answer_line.strip().strip('\"').strip().strip('\"')\n",
    "                    answer = clean_line\n",
    "                except Exception:\n",
    "                    answer = \"<|>解析错误<|>\"\n",
    "                    # print(\"答案解析错误\") \n",
    "                    answer_parse_error_count += 1\n",
    "\n",
    "            # print(answer)    \n",
    "            data['answer'][dev[count_index]['_id']] = str(answer)    \n",
    "    \n",
    "            sp=[]\n",
    "            try:\n",
    "                sp = json.loads(sp_line)\n",
    "                # print(sp)\n",
    "                # print(\"sp_type\"+str(type(sp)))\n",
    "                # data.append(obj1) \n",
    "            except JSONDecodeError :\n",
    "                # print(sp_line)\n",
    "                # 绝大多数格式错误都是少了前面的 [\n",
    "                sp_line = \"[\" + str(sp_line)\n",
    "                try:\n",
    "                    sp = json.loads(sp_line)\n",
    "                    # print(\"JSONDecode_sp_type\" + str(type(sp)))\n",
    "                    # data.append(obj1)   \n",
    "                except JSONDecodeError:\n",
    "                    #    其他类型错误，直接舍弃\n",
    "                    sp_parse_error_count += 1\n",
    "                    sp=[]\n",
    "            except TypeError:\n",
    "                sp_parse_error_count += 1\n",
    "                sp=[]\n",
    "            # print(sp)\n",
    "            data['sp'][dev[count_index]['_id']] = sp\n",
    "            count_index += 1\n",
    "            item_count += 1\n",
    "    # print(\"answer解析错误率\"+str(answer_parse_error_count/item_count))\n",
    "    # print(\"sp解析错误率\"+str(sp_parse_error_count/item_count))\n",
    "    print(len(data['sp']))\n",
    "    return data\n",
    "\n",
    "# 使用示例\n",
    "file_path = '/root/code/ChatGLM_PEFT/output.txt'  # 将其替换为你的 .jsonl 文件路径\n",
    "data = read_jsonl(file_path)"
   ]
  },
  {
   "cell_type": "code",
   "execution_count": 5,
   "metadata": {},
   "outputs": [],
   "source": [
    "def find_contextObj_by_id(data_list, search_id):\n",
    "    for item in data_list:\n",
    "        if item['_id'] == search_id:\n",
    "            return item['context']\n",
    "    return None  # 如果未找到\n",
    "\n",
    "def find_contextSentIndex_by_id(list,search_id,title,letter_index):\n",
    "    for item in list:\n",
    "        if item[0] == title:\n",
    "            for sent_dict in item[1]:\n",
    "                for key,value in sent_dict.items():\n",
    "                    if key == letter_index:#通过letter_index去找原句\n",
    "                        sent =  sent_dict[key]# 通过原句去找index\n",
    "                        init_context_list = find_contextObj_by_id(init_dev,search_id)\n",
    "                        for init_context_item in init_context_list:\n",
    "                            if init_context_item[0] == title:\n",
    "                                for index in range(len(init_context_item[1])):\n",
    "                                    if sent.casefold() == init_context_item[1][index].casefold():\n",
    "                                        return index\n",
    "                 \n",
    "    return None"
   ]
  },
  {
   "cell_type": "code",
   "execution_count": 6,
   "metadata": {},
   "outputs": [],
   "source": [
    "# print(dev)\n",
    "for key,value in data['sp'].items():\n",
    "    # print(value)\n",
    "    new_sp = []\n",
    "    for item in value:\n",
    "        if len(item) >=2 :\n",
    "            # print(item)\n",
    "            titile = item[0]\n",
    "            # print(titile)\n",
    "            letter_index = item[1]\n",
    "            # print(letter_index)\n",
    "            context_obj = find_contextObj_by_id(dev,key)  \n",
    "            # print(type(context_obj[0][1])) \n",
    "            if context_obj != None:\n",
    "                sent = find_contextSentIndex_by_id(context_obj,key,titile,letter_index)\n",
    "                if sent != None:\n",
    "                    new_sp_item = [titile,sent]\n",
    "                    new_sp.append(new_sp_item)\n",
    "    data['sp'][key] = new_sp\n",
    "with open(\"/root/code/ChatGLM_PEFT/main/data/te.json\", 'w') as write_f:\n",
    "\tjson.dump(data, write_f, indent=4, ensure_ascii=False)\n"
   ]
  }
 ],
 "metadata": {
  "kernelspec": {
   "display_name": "chatglm3",
   "language": "python",
   "name": "python3"
  },
  "language_info": {
   "codemirror_mode": {
    "name": "ipython",
    "version": 3
   },
   "file_extension": ".py",
   "mimetype": "text/x-python",
   "name": "python",
   "nbconvert_exporter": "python",
   "pygments_lexer": "ipython3",
   "version": "3.10.0"
  }
 },
 "nbformat": 4,
 "nbformat_minor": 2
}
