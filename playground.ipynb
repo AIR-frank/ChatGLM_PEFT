{
 "cells": [
  {
   "attachments": {},
   "cell_type": "markdown",
   "metadata": {},
   "source": [
    "### ChatGLM2-6B"
   ]
  },
  {
   "attachments": {},
   "cell_type": "markdown",
   "metadata": {},
   "source": [
    "前置依赖"
   ]
  },
  {
   "cell_type": "code",
   "execution_count": null,
   "metadata": {
    "vscode": {
     "languageId": "shellscript"
    }
   },
   "outputs": [],
   "source": [
    "pip install protobuf transformers==4.30.2 cpm_kernels torch>=2.0 gradio mdtex2html sentencepiece accelerate"
   ]
  },
  {
   "attachments": {},
   "cell_type": "markdown",
   "metadata": {},
   "source": [
    "运行模型"
   ]
  },
  {
   "cell_type": "code",
   "execution_count": null,
   "metadata": {},
   "outputs": [],
   "source": [
    "from transformers import AutoTokenizer, AutoModel\n",
    "\n",
    "tokenizer = AutoTokenizer.from_pretrained(\"model/chatglm2-6b\", trust_remote_code=True)\n",
    "model = AutoModel.from_pretrained(\"model/chatglm2-6b\", trust_remote_code=True).half().cuda()\n",
    "model = model.eval()"
   ]
  },
  {
   "cell_type": "code",
   "execution_count": null,
   "metadata": {},
   "outputs": [],
   "source": [
    "for response, history in model.stream_chat(tokenizer, \"你的任务是什么?\", history=[]):\n",
    "    print(response)"
   ]
  },
  {
   "attachments": {},
   "cell_type": "markdown",
   "metadata": {},
   "source": [
    "### CCGPTModel"
   ]
  },
  {
   "cell_type": "code",
   "execution_count": null,
   "metadata": {},
   "outputs": [],
   "source": [
    "import sys\n",
    "from CC.predictor.chatglm import GPTPredict\n",
    "\n",
    "predictor = GPTPredict(model_name=\"ChatGLM2-6B\", model_from_pretrained=\"model/chatglm3-6b\")"
   ]
  },
  {
   "cell_type": "code",
   "execution_count": null,
   "metadata": {},
   "outputs": [],
   "source": [
    "res = predictor(\"你好?\", history=[])\n",
    "print(res['data'])"
   ]
  },
  {
   "cell_type": "code",
   "execution_count": null,
   "metadata": {},
   "outputs": [],
   "source": [
    "for res in predictor.predict_stream(\"你的任务是什么?\", history=[]):\n",
    "    sys.stdout.write('\\r' + res['data'])\n",
    "    sys.stdout.flush()"
   ]
  },
  {
   "cell_type": "code",
   "execution_count": null,
   "metadata": {},
   "outputs": [],
   "source": [
    "with open('./a.txt', encoding='utf-8') as f:\n",
    "    ask_content = f.read()\n",
    "res = predictor(ask_content, history=[])\n",
    "print(res['data'])"
   ]
  },
  {
   "cell_type": "markdown",
   "metadata": {},
   "source": [
    "### ChatGLM_LoRA"
   ]
  },
  {
   "cell_type": "code",
   "execution_count": null,
   "metadata": {},
   "outputs": [],
   "source": [
    "from CC.trainer.chatglm_lora import Trainer\n",
    "from transformers import AutoTokenizer, AutoConfig\n",
    "\n",
    "tokenizer = AutoTokenizer.from_pretrained(\"model/chatglm2-6b\", trust_remote_code=True)\n",
    "config = AutoConfig.from_pretrained(\"model/chatglm2-6b\", trust_remote_code=True)\n",
    "trainer = Trainer(tokenizer=tokenizer, config=config, from_pretrained='./model/chatglm3-6b', loader_name='ChatGLM_LoRA', data_path='BossCondition', batch_size=2, task_name='BossCondition')"
   ]
  },
  {
   "cell_type": "code",
   "execution_count": null,
   "metadata": {},
   "outputs": [],
   "source": [
    "for i in trainer(num_epochs=5):\n",
    "    a = i"
   ]
  },
  {
   "cell_type": "markdown",
   "metadata": {},
   "source": [
    "##### 预测文本"
   ]
  },
  {
   "cell_type": "code",
   "execution_count": null,
   "metadata": {},
   "outputs": [],
   "source": [
    "from CC.predictor.chatglm_lora import Predictor\n",
    "\n",
    "pred = Predictor(model_from_pretrained='./model/chatglm3-6b', resume_path='./save_model/BossCondition/ChatGLM_37038')"
   ]
  },
  {
   "cell_type": "code",
   "execution_count": null,
   "metadata": {},
   "outputs": [],
   "source": [
    "result = pred('Instrcution: 请识别该商品的要素: 理光（Ricoh） M2700/M2701/2702多功能黑白激光复合机 a3复合机打印机一体机办公 M 2702(网络+双面+输稿器+7寸触屏) 官方标配\\n Answer:', max_length=512)\n",
    "print(result)"
   ]
  },
  {
   "cell_type": "code",
   "execution_count": null,
   "metadata": {},
   "outputs": [],
   "source": [
    "with open('./a.txt', encoding='utf-8') as f:\n",
    "    ask_content = f.read()\n",
    "result = pred(ask_content, max_length=512)\n",
    "print(result)"
   ]
  },
  {
   "cell_type": "markdown",
   "metadata": {},
   "source": [
    "##### 预测商品要素"
   ]
  },
  {
   "cell_type": "code",
   "execution_count": null,
   "metadata": {},
   "outputs": [],
   "source": [
    "from CC.predictor.chatglm_lora import Predictor\n",
    "\n",
    "pred = Predictor(model_from_pretrained='./model/chatglm3-6b', resume_path='./save_model/BossCondition/ChatGLM_37038')"
   ]
  },
  {
   "cell_type": "code",
   "execution_count": null,
   "metadata": {},
   "outputs": [],
   "source": [
    "result = pred('Instrcution: 请识别该商品的要素: 理光（Ricoh） M2700/M2701/2702多功能黑白激光复合机 a3复合机打印机一体机办公 M 2702(网络+双面+输稿器+7寸触屏) 官方标配\\n Answer:', max_length=512)\n",
    "print(result)"
   ]
  },
  {
   "cell_type": "code",
   "execution_count": null,
   "metadata": {},
   "outputs": [],
   "source": [
    "import json\n",
    "from tqdm import tqdm\n",
    "\n",
    "with open('./data/Boss/BertPred/复印机.tsv', encoding='utf-8') as f:\n",
    "    ori_list = f.read().split('\\n')\n",
    "\n",
    "if ori_list[-1] == '':\n",
    "    ori_list = ori_list[:-1]\n",
    "\n",
    "result = []\n",
    "iter = tqdm(ori_list)\n",
    "for item in iter:\n",
    "    item = item.split('\\t')\n",
    "    res = pred(f'Instrcution: 请识别该商品的要素: {item[2]}\\n Answer:', max_length=512)\n",
    "    res_item = {\n",
    "        'pred': res\n",
    "    }\n",
    "    answer_index = res.find('Answer:')\n",
    "    iter.set_postfix(pred=json.dumps(res[answer_index + 7:], ensure_ascii=False))\n",
    "    result.append(res_item)\n",
    "\n",
    "with open('./data_record/BertPred_ChatGLMLoRA/复印机.json', 'w', encoding='utf-8') as f:\n",
    "    for item in result:\n",
    "        f.write(json.dumps(item, ensure_ascii=False) + '\\n')"
   ]
  },
  {
   "cell_type": "markdown",
   "metadata": {},
   "source": [
    "### 使用ChatGLM3-6B对商品进行要素抽取"
   ]
  },
  {
   "cell_type": "code",
   "execution_count": null,
   "metadata": {},
   "outputs": [],
   "source": [
    "import sys\n",
    "from CC.predictor.chatglm import GPTPredict\n",
    "\n",
    "predictor = GPTPredict(model_name=\"ChatGLM2-6B\", model_from_pretrained=\"model/chatglm3-6b\")"
   ]
  },
  {
   "cell_type": "code",
   "execution_count": null,
   "metadata": {},
   "outputs": [],
   "source": [
    "import json\n",
    "from tqdm import tqdm\n",
    "\n",
    "with open('./data/Boss/train.json') as f:\n",
    "    ori_data = f.read().split('\\n')\n",
    "\n",
    "if ori_data[-1] == '':\n",
    "    ori_data.pop()\n",
    "\n",
    "result = []\n",
    "for item in tqdm(ori_data):\n",
    "    data = json.loads(item)\n",
    "    item_id = data['item_id']\n",
    "    context = data['context']\n",
    "    question = context.replace('\\n Answer: ', '')\n",
    "    res = predictor.generate(question, max_length=1024)\n",
    "    result.append({'item_id': item_id, 'question': question, 'answer': res})\n",
    "\n",
    "with open('./data/Boss/train_result.json', encoding='utf-8', mode='w') as f:\n",
    "    for item in result:\n",
    "        f.write(json.dumps(item, ensure_ascii=False) + '\\n')"
   ]
  }
 ],
 "metadata": {
  "kernelspec": {
   "display_name": "pcpower",
   "language": "python",
   "name": "python3"
  },
  "language_info": {
   "codemirror_mode": {
    "name": "ipython",
    "version": 3
   },
   "file_extension": ".py",
   "mimetype": "text/x-python",
   "name": "python",
   "nbconvert_exporter": "python",
   "pygments_lexer": "ipython3",
   "version": "3.9.17"
  },
  "orig_nbformat": 4
 },
 "nbformat": 4,
 "nbformat_minor": 2
}
